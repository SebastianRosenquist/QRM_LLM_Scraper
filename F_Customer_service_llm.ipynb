{
 "cells": [
  {
   "cell_type": "markdown",
   "metadata": {},
   "source": [
    "<div>\n",
    "<img img class=\"logo\" src=\"https://www.cbs.dk/files/cbs.dk/cbslogo.png\" style=\"width: 300px;\" align=\"right\">\n",
    "</div>\n",
    "\n",
    "# Exercise 05\n",
    "\n",
    "# Customer Service LLM Governance"
   ]
  },
  {
   "cell_type": "markdown",
   "metadata": {},
   "source": [
    "## Introduction\n",
    "\n",
    "- Phi3 LLM from Miscrosoft: [llm](https://huggingface.co/microsoft/Phi-3-mini-4k-instruct)\n",
    "\n",
    "LLM governance refers to the frameworks and policies guiding the development, deployment, and oversight of large language models. It addresses ethical, legal, and societal challenges, ensuring that these powerful tools are used responsibly and for the public good. Effective governance balances innovation with safeguards against misuse, bias, and unintended consequences. As LLMs continue to evolve, robust governance is crucial for maintaining trust and accountability in their use across diverse sectors."
   ]
  },
  {
   "cell_type": "markdown",
   "metadata": {},
   "source": [
    "Get your environment setup and rweady so you can deploy a small language model with Gen AI capabilities."
   ]
  },
  {
   "cell_type": "code",
   "execution_count": 2,
   "metadata": {},
   "outputs": [],
   "source": [
    "!huggingface-cli download microsoft/Phi-3-mini-4k-instruct-onnx --include cpu_and_mobile/cpu-int4-rtn-block-32-acc-level-4/* --local-dir ."
   ]
  },
  {
   "cell_type": "markdown",
   "metadata": {},
   "source": [
    "Might be worth checking this out if I have a GPU: https://github.com/microsoft/onnxruntime-genai/blob/main/examples/python/phi-3-tutorial.md#run-with-directml\n",
    "\n",
    "Also useful: https://www.kaggle.com/code/gpreda/rag-using-llama3-langchain-and-chromadb/notebook"
   ]
  },
  {
   "cell_type": "code",
   "execution_count": null,
   "metadata": {},
   "outputs": [],
   "source": [
    "import os\n",
    "\n",
    "# Get the current working directory\n",
    "cwd = os.getcwd()\n",
    "\n",
    "# Prepend \\\\?\\ to the absolute path\n",
    "local_dir = f\"\\\\\\\\?\\\\{os.path.abspath(cwd)}\"\n",
    "\n",
    "# Run the command with the modified path\n",
    "!huggingface-cli download microsoft/Phi-3-mini-4k-instruct-onnx --include cpu_and_mobile/cpu-int4-rtn-block-32-acc-level-4/* --local-dir \"{local_dir}\""
   ]
  },
  {
   "cell_type": "code",
   "execution_count": 3,
   "metadata": {},
   "outputs": [],
   "source": [
    "!pip install numpy\n",
    "!pip install --pre onnxruntime-genai"
   ]
  },
  {
   "cell_type": "code",
   "execution_count": null,
   "metadata": {},
   "outputs": [],
   "source": [
    "!curl https://raw.githubusercontent.com/microsoft/onnxruntime-genai/main/examples/python/phi3-qa.py -o phi3-qa.py"
   ]
  },
  {
   "cell_type": "markdown",
   "metadata": {},
   "source": [
    "The next code snibbet will run the cloned python script and let you start the llm. Now you have a LLM running on your local machine. When cloding the Notebook or shell you will stop it and the memory will be free again for other tasks."
   ]
  },
  {
   "cell_type": "code",
   "execution_count": null,
   "metadata": {},
   "outputs": [],
   "source": [
    "!python phi3-qa.py -m cpu_and_mobile/cpu-int4-rtn-block-32-acc-level-4"
   ]
  },
  {
   "cell_type": "markdown",
   "metadata": {
    "tags": []
   },
   "source": [
    "Now you have your environment set up and you have an llm running which you can use. You can also access it via the comand line by opening the shell in Jupiter Lab."
   ]
  },
  {
   "cell_type": "markdown",
   "metadata": {},
   "source": [
    "# Exercice 05.1\n",
    "\n",
    "Follow the task mentioned above and:\n",
    "* Run your local LLM\n",
    "* Test it with some prompts\n",
    "* Note doen youyr observations\n",
    "* Compare it with your experience with ChatGPT\n",
    "* Fill out the reporting questions on Canvas."
   ]
  },
  {
   "cell_type": "code",
   "execution_count": null,
   "metadata": {},
   "outputs": [],
   "source": []
  }
 ],
 "metadata": {
  "kernelspec": {
   "display_name": "Python 3 (ipykernel)",
   "language": "python",
   "name": "python3"
  },
  "language_info": {
   "codemirror_mode": {
    "name": "ipython",
    "version": 3
   },
   "file_extension": ".py",
   "mimetype": "text/x-python",
   "name": "python",
   "nbconvert_exporter": "python",
   "pygments_lexer": "ipython3",
   "version": "3.10.12"
  }
 },
 "nbformat": 4,
 "nbformat_minor": 4
}
